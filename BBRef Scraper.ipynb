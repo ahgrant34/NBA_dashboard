{
 "cells": [
  {
   "cell_type": "markdown",
   "metadata": {},
   "source": [
    "## Import Packages\n"
   ]
  },
  {
   "cell_type": "code",
   "execution_count": 10,
   "metadata": {},
   "outputs": [],
   "source": [
    "from urllib.request import urlopen\n",
    "from bs4 import BeautifulSoup\n",
    "import pandas as pd"
   ]
  },
  {
   "cell_type": "markdown",
   "metadata": {},
   "source": [
    "## Function to Scrape BB Reference data"
   ]
  },
  {
   "cell_type": "code",
   "execution_count": 11,
   "metadata": {},
   "outputs": [],
   "source": [
    "def BBRef_player_stats_scraper(year_start, year_end):\n",
    "    \n",
    "    # create an empty list for the combined stats\n",
    "    complete_stats = []\n",
    "    \n",
    "    # assign the year to start loop at\n",
    "    year = year_start\n",
    "    \n",
    "    #number of years after the first year to be considered (add one to compensate for range function)\n",
    "    delta = year_end - year_start + 1\n",
    "    \n",
    "    # start loop\n",
    "    for x in range(delta):\n",
    "        \n",
    "        # URL page function is scraping from\n",
    "        url = \"https://www.basketball-reference.com/leagues/NBA_{}_per_game.html\".format(year)\n",
    "        \n",
    "        # HTML for above url\n",
    "        html = urlopen(url)\n",
    "        soup = BeautifulSoup(html)\n",
    "        \n",
    "        # use findALL() to get the column headers\n",
    "        soup.findAll('tr', limit=2)\n",
    "        \n",
    "        # use getText()to extract the text into a list\n",
    "        headers = [th.getText() for th in soup.findAll('tr', limit=2)[0].findAll('th')]\n",
    "        \n",
    "        # exclude the first column as we will not need the ranking order from Basketball Reference for the analysis\n",
    "        headers = headers[1:]\n",
    "        # avoid the first header row\n",
    "        rows = soup.findAll('tr')[1:]\n",
    "        player_stats = [[td.getText() for td in rows[i].findAll('td')]\n",
    "                        for i in range(len(rows))]\n",
    "        \n",
    "        #loop through players adding year for stats and then appending each player to the complete list\n",
    "        for player in player_stats:\n",
    "            player.insert(0, year)\n",
    "            complete_stats.append(player)\n",
    "        \n",
    "        # move to the next year and loop again\n",
    "        year = year + 1\n",
    "    \n",
    "    # add in the year column header\n",
    "    headers.insert(0,'year')\n",
    "    \n",
    "    # create a dataframe from the complete list\n",
    "    stats = pd.DataFrame(complete_stats, columns = headers)\n",
    "    \n",
    "    return stats\n",
    "    "
   ]
  },
  {
   "cell_type": "markdown",
   "metadata": {},
   "source": [
    "## Run Function"
   ]
  },
  {
   "cell_type": "code",
   "execution_count": 12,
   "metadata": {},
   "outputs": [],
   "source": [
    "\n",
    "# Stats for years\n",
    "df = BBRef_player_stats_scraper(2016, 2020)"
   ]
  },
  {
   "cell_type": "markdown",
   "metadata": {},
   "source": [
    "## Export to CSV"
   ]
  },
  {
   "cell_type": "code",
   "execution_count": 13,
   "metadata": {},
   "outputs": [],
   "source": [
    "df.to_csv('data/bbref_df.csv')"
   ]
  },
  {
   "cell_type": "code",
   "execution_count": null,
   "metadata": {},
   "outputs": [],
   "source": []
  }
 ],
 "metadata": {
  "kernelspec": {
   "display_name": "Python 3",
   "language": "python",
   "name": "python3"
  },
  "language_info": {
   "codemirror_mode": {
    "name": "ipython",
    "version": 3
   },
   "file_extension": ".py",
   "mimetype": "text/x-python",
   "name": "python",
   "nbconvert_exporter": "python",
   "pygments_lexer": "ipython3",
   "version": "3.7.4"
  }
 },
 "nbformat": 4,
 "nbformat_minor": 2
}
