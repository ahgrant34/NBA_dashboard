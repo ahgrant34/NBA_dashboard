{
 "cells": [
  {
   "cell_type": "markdown",
   "metadata": {},
   "source": [
    "## Import Packages"
   ]
  },
  {
   "cell_type": "code",
   "execution_count": 2,
   "metadata": {},
   "outputs": [],
   "source": [
    "import pandas as pd"
   ]
  },
  {
   "cell_type": "markdown",
   "metadata": {},
   "source": [
    "## Import CSV From Scraper"
   ]
  },
  {
   "cell_type": "code",
   "execution_count": 3,
   "metadata": {},
   "outputs": [],
   "source": [
    "df = pd.read_csv('data/bbref_df.csv')"
   ]
  },
  {
   "cell_type": "markdown",
   "metadata": {},
   "source": [
    "#### Begin cleaning data by looking for missing values"
   ]
  },
  {
   "cell_type": "code",
   "execution_count": 4,
   "metadata": {},
   "outputs": [
    {
     "data": {
      "text/plain": [
       "(3321, 31)"
      ]
     },
     "execution_count": 4,
     "metadata": {},
     "output_type": "execute_result"
    }
   ],
   "source": [
    "df.shape"
   ]
  },
  {
   "cell_type": "code",
   "execution_count": 5,
   "metadata": {},
   "outputs": [
    {
     "data": {
      "text/plain": [
       "Unnamed: 0      0\n",
       "year            0\n",
       "Player        125\n",
       "Pos           125\n",
       "Age           125\n",
       "Tm            125\n",
       "G             125\n",
       "GS            125\n",
       "MP            125\n",
       "FG            125\n",
       "FGA           125\n",
       "FG%           142\n",
       "3P            125\n",
       "3PA           125\n",
       "3P%           374\n",
       "2P            125\n",
       "2PA           125\n",
       "2P%           177\n",
       "eFG%          142\n",
       "FT            125\n",
       "FTA           125\n",
       "FT%           307\n",
       "ORB           125\n",
       "DRB           125\n",
       "TRB           125\n",
       "AST           125\n",
       "STL           125\n",
       "BLK           125\n",
       "TOV           125\n",
       "PF            125\n",
       "PTS           125\n",
       "dtype: int64"
      ]
     },
     "execution_count": 5,
     "metadata": {},
     "output_type": "execute_result"
    }
   ],
   "source": [
    "df.isna().sum()"
   ]
  },
  {
   "cell_type": "markdown",
   "metadata": {},
   "source": [
    "#### Remove rows with missing values from players"
   ]
  },
  {
   "cell_type": "code",
   "execution_count": 6,
   "metadata": {},
   "outputs": [],
   "source": [
    "df = df[df['Player'].notna()]"
   ]
  },
  {
   "cell_type": "markdown",
   "metadata": {},
   "source": [
    "#### Check for remaining missing values"
   ]
  },
  {
   "cell_type": "code",
   "execution_count": 7,
   "metadata": {},
   "outputs": [
    {
     "data": {
      "text/plain": [
       "Unnamed: 0      0\n",
       "year            0\n",
       "Player          0\n",
       "Pos             0\n",
       "Age             0\n",
       "Tm              0\n",
       "G               0\n",
       "GS              0\n",
       "MP              0\n",
       "FG              0\n",
       "FGA             0\n",
       "FG%            17\n",
       "3P              0\n",
       "3PA             0\n",
       "3P%           249\n",
       "2P              0\n",
       "2PA             0\n",
       "2P%            52\n",
       "eFG%           17\n",
       "FT              0\n",
       "FTA             0\n",
       "FT%           182\n",
       "ORB             0\n",
       "DRB             0\n",
       "TRB             0\n",
       "AST             0\n",
       "STL             0\n",
       "BLK             0\n",
       "TOV             0\n",
       "PF              0\n",
       "PTS             0\n",
       "dtype: int64"
      ]
     },
     "execution_count": 7,
     "metadata": {},
     "output_type": "execute_result"
    }
   ],
   "source": [
    "df.isna().sum()"
   ]
  },
  {
   "cell_type": "markdown",
   "metadata": {},
   "source": [
    "since the remaining missing values are related to no attempts for those players in the categories the missing percentages with be imputed with zeros"
   ]
  },
  {
   "cell_type": "markdown",
   "metadata": {},
   "source": [
    "#### Replace missing values from no FG/FT/3P attempts with zeros"
   ]
  },
  {
   "cell_type": "code",
   "execution_count": 20,
   "metadata": {},
   "outputs": [],
   "source": [
    "df.fillna(0, inplace=True)"
   ]
  },
  {
   "cell_type": "code",
   "execution_count": 21,
   "metadata": {},
   "outputs": [
    {
     "data": {
      "text/plain": [
       "Unnamed: 0    0\n",
       "year          0\n",
       "Player        0\n",
       "Pos           0\n",
       "Age           0\n",
       "Tm            0\n",
       "G             0\n",
       "GS            0\n",
       "MP            0\n",
       "FG            0\n",
       "FGA           0\n",
       "FG%           0\n",
       "3P            0\n",
       "3PA           0\n",
       "3P%           0\n",
       "2P            0\n",
       "2PA           0\n",
       "2P%           0\n",
       "eFG%          0\n",
       "FT            0\n",
       "FTA           0\n",
       "FT%           0\n",
       "ORB           0\n",
       "DRB           0\n",
       "TRB           0\n",
       "AST           0\n",
       "STL           0\n",
       "BLK           0\n",
       "TOV           0\n",
       "PF            0\n",
       "PTS           0\n",
       "dtype: int64"
      ]
     },
     "execution_count": 21,
     "metadata": {},
     "output_type": "execute_result"
    }
   ],
   "source": [
    "df.isna().sum()"
   ]
  },
  {
   "cell_type": "markdown",
   "metadata": {},
   "source": [
    "#### Export updated CSV file"
   ]
  },
  {
   "cell_type": "code",
   "execution_count": 23,
   "metadata": {},
   "outputs": [],
   "source": [
    "df.to_csv('data/BBRef_data_clean.csv')"
   ]
  },
  {
   "cell_type": "code",
   "execution_count": null,
   "metadata": {},
   "outputs": [],
   "source": []
  },
  {
   "cell_type": "code",
   "execution_count": null,
   "metadata": {},
   "outputs": [],
   "source": []
  },
  {
   "cell_type": "code",
   "execution_count": null,
   "metadata": {},
   "outputs": [],
   "source": []
  },
  {
   "cell_type": "code",
   "execution_count": null,
   "metadata": {},
   "outputs": [],
   "source": []
  },
  {
   "cell_type": "code",
   "execution_count": null,
   "metadata": {},
   "outputs": [],
   "source": []
  }
 ],
 "metadata": {
  "kernelspec": {
   "display_name": "Python 3",
   "language": "python",
   "name": "python3"
  },
  "language_info": {
   "codemirror_mode": {
    "name": "ipython",
    "version": 3
   },
   "file_extension": ".py",
   "mimetype": "text/x-python",
   "name": "python",
   "nbconvert_exporter": "python",
   "pygments_lexer": "ipython3",
   "version": "3.7.4"
  }
 },
 "nbformat": 4,
 "nbformat_minor": 2
}
